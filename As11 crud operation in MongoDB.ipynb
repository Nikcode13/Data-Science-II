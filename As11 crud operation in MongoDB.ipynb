{
 "cells": [
  {
   "cell_type": "code",
   "execution_count": 2,
   "id": "e020b6b3-bb48-482d-b5c7-412e9aaaa94e",
   "metadata": {},
   "outputs": [
    {
     "name": "stdout",
     "output_type": "stream",
     "text": [
      "Collecting pymongo\n",
      "  Downloading pymongo-4.12.0-cp312-cp312-win_amd64.whl.metadata (22 kB)\n",
      "Collecting dnspython<3.0.0,>=1.16.0 (from pymongo)\n",
      "  Downloading dnspython-2.7.0-py3-none-any.whl.metadata (5.8 kB)\n",
      "Downloading pymongo-4.12.0-cp312-cp312-win_amd64.whl (896 kB)\n",
      "   ---------------------------------------- 0.0/896.7 kB ? eta -:--:--\n",
      "   --------------------------------------- 896.7/896.7 kB 19.8 MB/s eta 0:00:00\n",
      "Downloading dnspython-2.7.0-py3-none-any.whl (313 kB)\n",
      "Installing collected packages: dnspython, pymongo\n",
      "Successfully installed dnspython-2.7.0 pymongo-4.12.0\n",
      "Note: you may need to restart the kernel to use updated packages.\n"
     ]
    }
   ],
   "source": [
    "pip install pymongo"
   ]
  },
  {
   "cell_type": "code",
   "execution_count": 1,
   "id": "d42c522d-0aba-441b-a000-a0b0be9e157c",
   "metadata": {},
   "outputs": [],
   "source": [
    "from pymongo import MongoClient\n"
   ]
  },
  {
   "cell_type": "code",
   "execution_count": 2,
   "id": "8c2b7648-1de0-42a4-8d8f-6e4cc599be5b",
   "metadata": {},
   "outputs": [],
   "source": [
    "client=MongoClient(\"mongodb://localhost:27017/\")\n",
    "\n",
    "db=client['mydatabase']\n",
    "collection=db['user']"
   ]
  },
  {
   "cell_type": "code",
   "execution_count": 3,
   "id": "6099cc74-46b2-4600-b78e-79c814cd7c5d",
   "metadata": {},
   "outputs": [
    {
     "name": "stdout",
     "output_type": "stream",
     "text": [
      "Document inserted with ID : 67f609b5e51ed8cddab1bb99\n"
     ]
    }
   ],
   "source": [
    "user_data={\n",
    "\n",
    "    'name':'john doe',\n",
    "    'age':30,\n",
    "    'email':'john.deo@example.com'\n",
    "}\n",
    "\n",
    "result=collection.insert_one(user_data)\n",
    "print(f\"Document inserted with ID : {result.inserted_id}\")"
   ]
  },
  {
   "cell_type": "code",
   "execution_count": 4,
   "id": "b7dcb951-bac7-4453-b9d6-3fbac7495406",
   "metadata": {},
   "outputs": [
    {
     "name": "stdout",
     "output_type": "stream",
     "text": [
      "Found user : {'_id': ObjectId('67f609b5e51ed8cddab1bb99'), 'name': 'john doe', 'age': 30, 'email': 'john.deo@example.com'}\n"
     ]
    }
   ],
   "source": [
    "user=collection.find_one({\"name\":\"john doe\"})\n",
    "print(\"Found user :\",user)"
   ]
  },
  {
   "cell_type": "code",
   "execution_count": 5,
   "id": "d381779e-ad0a-43a9-8ed9-ed94ed441974",
   "metadata": {},
   "outputs": [],
   "source": [
    "update_result=collection.update_one(\n",
    "\n",
    "    {\"name\":\"john doe\"},\n",
    "    {\"$set\":{\"age\":35}}\n",
    ")"
   ]
  },
  {
   "cell_type": "code",
   "execution_count": 6,
   "id": "930cae52-ce5d-4a3d-9bd5-a0f0345d2db1",
   "metadata": {},
   "outputs": [
    {
     "name": "stdout",
     "output_type": "stream",
     "text": [
      "Documents matched : 1,Documents modified : 1 \n"
     ]
    }
   ],
   "source": [
    "print(f\"Documents matched : {update_result.matched_count},Documents modified : {update_result.matched_count} \")"
   ]
  },
  {
   "cell_type": "code",
   "execution_count": 7,
   "id": "33842efc-e817-498b-bc52-8296b5cf440c",
   "metadata": {},
   "outputs": [],
   "source": [
    "delete_result=collection.delete_one({\"name\":\"john doe\"})"
   ]
  },
  {
   "cell_type": "code",
   "execution_count": 8,
   "id": "bae73444-0cbb-4717-938b-6524219e13fc",
   "metadata": {},
   "outputs": [
    {
     "name": "stdout",
     "output_type": "stream",
     "text": [
      "Documents deleted : 1\n"
     ]
    }
   ],
   "source": [
    "print(f\"Documents deleted : {delete_result.deleted_count}\")"
   ]
  },
  {
   "cell_type": "code",
   "execution_count": 9,
   "id": "7eea5058-2da7-45ed-8c3b-eb38a38f59eb",
   "metadata": {},
   "outputs": [
    {
     "name": "stdout",
     "output_type": "stream",
     "text": [
      "{'name': 'john doe', 'age': 30, 'email': 'john.deo@example.com', '_id': ObjectId('67f609b5e51ed8cddab1bb99')}\n"
     ]
    }
   ],
   "source": [
    "print(user_data)"
   ]
  },
  {
   "cell_type": "code",
   "execution_count": null,
   "id": "ca498f36-70da-4a00-b623-6412f39d4ad5",
   "metadata": {},
   "outputs": [],
   "source": []
  }
 ],
 "metadata": {
  "kernelspec": {
   "display_name": "Python 3 (ipykernel)",
   "language": "python",
   "name": "python3"
  },
  "language_info": {
   "codemirror_mode": {
    "name": "ipython",
    "version": 3
   },
   "file_extension": ".py",
   "mimetype": "text/x-python",
   "name": "python",
   "nbconvert_exporter": "python",
   "pygments_lexer": "ipython3",
   "version": "3.12.7"
  }
 },
 "nbformat": 4,
 "nbformat_minor": 5
}
