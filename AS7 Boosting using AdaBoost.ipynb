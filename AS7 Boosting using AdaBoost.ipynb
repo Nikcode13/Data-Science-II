{
 "cells": [
  {
   "cell_type": "code",
   "execution_count": 9,
   "id": "80a3c647",
   "metadata": {},
   "outputs": [],
   "source": [
    "import pandas as pd\n",
    "from sklearn.model_selection import train_test_split\n",
    "from sklearn.ensemble import AdaBoostClassifier\n",
    "from sklearn.tree import DecisionTreeClassifier\n",
    "from sklearn.metrics import accuracy_score\n",
    "from sklearn.preprocessing import LabelEncoder"
   ]
  },
  {
   "cell_type": "code",
   "execution_count": 10,
   "id": "cfbfdf7d",
   "metadata": {},
   "outputs": [
    {
     "name": "stdout",
     "output_type": "stream",
     "text": [
      "   feature_0  feature_1  feature_2  feature_3  feature_4  feature_5  \\\n",
      "0   0.496714  -0.138264   0.647689   1.523030  -0.234153  -0.234137   \n",
      "1  -0.463418  -0.465730   0.241962  -1.913280  -1.724918  -0.562288   \n",
      "2   1.465649  -0.225776   0.067528  -1.424748  -0.544383   0.110923   \n",
      "3  -0.601707   1.852278  -0.013497  -1.057711   0.822545  -1.220844   \n",
      "4   0.738467   0.171368  -0.115648  -0.301104  -1.478522  -0.719844   \n",
      "\n",
      "   feature_6  feature_7  feature_8  feature_9  target  \n",
      "0   1.579213   0.767435  -0.469474   0.542560       1  \n",
      "1  -1.012831   0.314247  -0.908024  -1.412304       1  \n",
      "2  -1.150994   0.375698  -0.600639  -0.291694       0  \n",
      "3   0.208864  -1.959670  -1.328186   0.196861       0  \n",
      "4  -0.460639   1.057122   0.343618  -1.763040       0  \n"
     ]
    }
   ],
   "source": [
    "df=pd.read_csv('log.csv')\n",
    "\n",
    "print(df.head())"
   ]
  },
  {
   "cell_type": "code",
   "execution_count": 11,
   "id": "7e82e75f",
   "metadata": {},
   "outputs": [
    {
     "name": "stdout",
     "output_type": "stream",
     "text": [
      "Accuracy of AdaBoost on test data: 49.00%\n"
     ]
    }
   ],
   "source": [
    "# Step 1: Handle missing values (if any) \n",
    "# Example: Drop rows with missing values (you can also fill with the mean or median) \n",
    "df=df.dropna()\n",
    "\n",
    "#Step 2: Separate features (X) and target (y) \n",
    "#Assuming the Last column is the target variable \n",
    "x=df.iloc[:, :-1].values    # ALL rows, all columns except the last one \n",
    "y=df.iloc[:, -1].values      #Last column is the target \n",
    "\n",
    "#Step 3: Encode the target variable if it's categorical \n",
    "label_encoder=LabelEncoder()\n",
    "y=label_encoder.fit_transform(y)\n",
    "\n",
    "#Step 4: Split the data into training and testing sets \n",
    "x_train,x_test,y_train,y_test=train_test_split(x,y,test_size=0.3,random_state=42)\n",
    "\n",
    "#Step 5: Initialize and train the AdaBoost classifier with a DecisionTree as the base estimator \n",
    "# Decision TreeClassifier with max_depth=1 is used to create a weak Learner (stump) \n",
    "base_estimator=DecisionTreeClassifier(max_depth=1)\n",
    "\n",
    "# Update: Use 'estimator' instead of 'base_estimator' \n",
    "adaboost_classifier=AdaBoostClassifier(estimator=base_estimator,n_estimators=50,random_state=42)\n",
    "adaboost_classifier.fit(x_train,y_train)\n",
    "\n",
    "#Step 6: Make predictions on the test set \n",
    "y_pred=adaboost_classifier.predict(x_test)\n",
    "\n",
    "#Step 7: Evaluate the model's performance \n",
    "accuracy=accuracy_score(y_test,y_pred)\n",
    "print(f'Accuracy of AdaBoost on test data: {accuracy * 100:.2f}%')"
   ]
  },
  {
   "cell_type": "code",
   "execution_count": null,
   "id": "dbed3ac0",
   "metadata": {},
   "outputs": [],
   "source": []
  }
 ],
 "metadata": {
  "kernelspec": {
   "display_name": "Python 3 (ipykernel)",
   "language": "python",
   "name": "python3"
  },
  "language_info": {
   "codemirror_mode": {
    "name": "ipython",
    "version": 3
   },
   "file_extension": ".py",
   "mimetype": "text/x-python",
   "name": "python",
   "nbconvert_exporter": "python",
   "pygments_lexer": "ipython3",
   "version": "3.10.9"
  }
 },
 "nbformat": 4,
 "nbformat_minor": 5
}
