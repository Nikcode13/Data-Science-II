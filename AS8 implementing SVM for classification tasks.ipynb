{
 "cells": [
  {
   "cell_type": "code",
   "execution_count": 2,
   "id": "013397ef",
   "metadata": {},
   "outputs": [],
   "source": [
    "import numpy as np\n",
    "import pandas as pd\n",
    "import matplotlib.pyplot as plt\n",
    "from sklearn.model_selection import train_test_split\n",
    "from sklearn.preprocessing import StandardScaler\n",
    "from sklearn.svm import SVC\n",
    "from sklearn.metrics import accuracy_score,classification_report,confusion_matrix"
   ]
  },
  {
   "cell_type": "code",
   "execution_count": 3,
   "id": "558ee22c",
   "metadata": {},
   "outputs": [
    {
     "name": "stdout",
     "output_type": "stream",
     "text": [
      "   Feature1  Feature2  Target\n",
      "0       2.5       3.1       0\n",
      "1       1.2       2.3       0\n",
      "2       3.4       4.2       1\n",
      "3       2.1       3.0       1\n",
      "4       3.0       3.5       1\n"
     ]
    }
   ],
   "source": [
    "df=pd.read_csv('pca.csv')\n",
    "print(df.head())"
   ]
  },
  {
   "cell_type": "code",
   "execution_count": 4,
   "id": "7fe8fcc3",
   "metadata": {},
   "outputs": [
    {
     "name": "stdout",
     "output_type": "stream",
     "text": [
      "Accuracy:1.0000\n",
      "Confusion Matrix:\n",
      "[[1 0]\n",
      " [0 1]]\n",
      "classification Report : \n",
      "              precision    recall  f1-score   support\n",
      "\n",
      "           0       1.00      1.00      1.00         1\n",
      "           1       1.00      1.00      1.00         1\n",
      "\n",
      "    accuracy                           1.00         2\n",
      "   macro avg       1.00      1.00      1.00         2\n",
      "weighted avg       1.00      1.00      1.00         2\n",
      "\n"
     ]
    },
    {
     "data": {
      "image/png": "[encoded data removed]",
      "text/plain": [
       "<Figure size 640x480 with 1 Axes>"
      ]
     },
     "metadata": {},
     "output_type": "display_data"
    }
   ],
   "source": [
    "# Assuming the last column is the target variable (classification labels)\n",
    "x=df.iloc[:,:-1]   # Select all rows and all columns except the last one for features\n",
    "y=df.iloc[:,-1]    # Select the last column for the target (labels)\n",
    "\n",
    "# Step 1: Split the dataset into training and testing sets (80% training, 20% testing)\n",
    "x_train,x_test,y_train,y_test=train_test_split(x,y,test_size=0.2,random_state=42)\n",
    "\n",
    "# Step 2: Standardize features using StandardScaler (important for SVM)\n",
    "scaler=StandardScaler()\n",
    "\n",
    "x_train=scaler.fit_transform(x_train)  # Fit on training data and transform it\n",
    "x_test=scaler.transform(x_test)       # Use the same scaler to transform test data\n",
    "\n",
    "# Step 3: Train the Support Vector Machine (SVM) model\n",
    "\n",
    "svm_model=SVC(kernel='linear',random_state=42)\n",
    "svm_model.fit(x_train,y_train)\n",
    "\n",
    "# Step 4: Make predictions using the trained SVM model\n",
    "y_pred=svm_model.predict(x_test)\n",
    "\n",
    "# Step 5: Evaluate the model's performance\n",
    "accuracy=accuracy_score(y_test,y_pred)\n",
    "conf_matrix=confusion_matrix(y_test,y_pred)\n",
    "report=classification_report(y_test,y_pred)\n",
    "\n",
    "# Print evaluation results\n",
    "\n",
    "print(f'Accuracy:{accuracy:.4f}')\n",
    "print('Confusion Matrix:')\n",
    "print(conf_matrix)\n",
    "print('classification Report : ')\n",
    "print(report)\n",
    "\n",
    "\n",
    "# Step 6: Optional - Visualize the decision boundaries (only works for 2D features)\n",
    "# This is just a visualization example for datasets with two features\n",
    "\n",
    "if x.shape[1]==2:  # Check if we have only two features for visualization\n",
    "    \n",
    "    # Create a mesh grid for plotting decision boundaries\n",
    "    h=.02\n",
    "    x_min,x_max=x_train[:,0].min()-1,x_train[:,0].max()+1\n",
    "    y_min,y_max=x_train[:,1].min()-1,x_train[:,1].max()+1\n",
    "    xx,yy=np.meshgrid(np.arange(x_min,x_max,h),np.arange(y_min,y_max,h))\n",
    "    \n",
    "    # Predict over the mesh grid\n",
    "    z=svm_model.predict(np.c_[xx.ravel(),yy.ravel()])\n",
    "    z=z.reshape(xx.shape)\n",
    "    \n",
    "    # Plot decision boundary\n",
    "    plt.contourf(xx,yy,z,alpha=0.8)\n",
    "    plt.scatter(x_train[:,0],x_train[:,1],c=y_train,edgecolors='k',marker='o',cmap=plt.cm.Paired)\n",
    "    plt.title('SVM Decision Boundary with Linear Kernel')\n",
    "    plt.xlabel('Feature 1')\n",
    "    plt.ylabel('Feature 2')\n",
    "    plt.show()"
   ]
  },
  {
   "cell_type": "code",
   "execution_count": null,
   "id": "b460062a",
   "metadata": {},
   "outputs": [],
   "source": []
  }
 ],
 "metadata": {
  "kernelspec": {
   "display_name": "Python 3 (ipykernel)",
   "language": "python",
   "name": "python3"
  },
  "language_info": {
   "codemirror_mode": {
    "name": "ipython",
    "version": 3
   },
   "file_extension": ".py",
   "mimetype": "text/x-python",
   "name": "python",
   "nbconvert_exporter": "python",
   "pygments_lexer": "ipython3",
   "version": "3.10.9"
  }
 },
 "nbformat": 4,
 "nbformat_minor": 5
}
