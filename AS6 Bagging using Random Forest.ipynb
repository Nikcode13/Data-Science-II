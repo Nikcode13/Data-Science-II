{
 "cells": [
  {
   "cell_type": "code",
   "execution_count": 2,
   "id": "4f7633c2",
   "metadata": {},
   "outputs": [],
   "source": [
    "import pandas as pd\n",
    "from sklearn.model_selection import train_test_split\n",
    "from sklearn.ensemble import RandomForestClassifier\n",
    "from sklearn.metrics import accuracy_score\n",
    "from sklearn.preprocessing import LabelEncoder"
   ]
  },
  {
   "cell_type": "code",
   "execution_count": 3,
   "id": "a7b8a450",
   "metadata": {},
   "outputs": [
    {
     "name": "stdout",
     "output_type": "stream",
     "text": [
      "   feature_0  feature_1  feature_2  feature_3  feature_4  feature_5  \\\n",
      "0   0.496714  -0.138264   0.647689   1.523030  -0.234153  -0.234137   \n",
      "1  -0.463418  -0.465730   0.241962  -1.913280  -1.724918  -0.562288   \n",
      "2   1.465649  -0.225776   0.067528  -1.424748  -0.544383   0.110923   \n",
      "3  -0.601707   1.852278  -0.013497  -1.057711   0.822545  -1.220844   \n",
      "4   0.738467   0.171368  -0.115648  -0.301104  -1.478522  -0.719844   \n",
      "\n",
      "   feature_6  feature_7  feature_8  feature_9  target  \n",
      "0   1.579213   0.767435  -0.469474   0.542560       1  \n",
      "1  -1.012831   0.314247  -0.908024  -1.412304       1  \n",
      "2  -1.150994   0.375698  -0.600639  -0.291694       0  \n",
      "3   0.208864  -1.959670  -1.328186   0.196861       0  \n",
      "4  -0.460639   1.057122   0.343618  -1.763040       0  \n"
     ]
    }
   ],
   "source": [
    "df=pd.read_csv('log.csv')\n",
    "\n",
    "print(df.head())"
   ]
  },
  {
   "cell_type": "code",
   "execution_count": 4,
   "id": "c9a1eba9",
   "metadata": {},
   "outputs": [
    {
     "name": "stdout",
     "output_type": "stream",
     "text": [
      "Accuracy of random forest (Bagging) model: 0.5300\n"
     ]
    }
   ],
   "source": [
    "# You can use pd.get_dummies() for one-hot encoding or LabelEncoder for ordinal encoding \n",
    "# Assuming 'target' is the column name for the Labels \n",
    "\n",
    "x=df.iloc[:, :-1].values   # ALL rows, all columns except the last one \n",
    "y=df.iloc[:, -1].values    #Last column is the target \n",
    "\n",
    "# Split the dataset into training and testing sets \n",
    "x_train,x_test,y_train,y_test=train_test_split(x,y,test_size=0.3,random_state=42)\n",
    "\n",
    "# Initialize the RandomForestClassifier (Bagging using Decision Trees) \n",
    "random_forest=RandomForestClassifier(n_estimators=100,random_state=42)\n",
    "\n",
    "# Train the Random Forest model \n",
    "random_forest.fit(x_train,y_train)\n",
    "\n",
    "# Make predictions on the test set \n",
    "y_pred=random_forest.predict(x_test)\n",
    "\n",
    "#Evaluate the model \n",
    "accuracy=accuracy_score(y_test,y_pred)\n",
    "print(f'Accuracy of random forest (Bagging) model: {accuracy:.4f}')"
   ]
  },
  {
   "cell_type": "code",
   "execution_count": null,
   "id": "a20b0aae",
   "metadata": {},
   "outputs": [],
   "source": []
  }
 ],
 "metadata": {
  "kernelspec": {
   "display_name": "Python 3 (ipykernel)",
   "language": "python",
   "name": "python3"
  },
  "language_info": {
   "codemirror_mode": {
    "name": "ipython",
    "version": 3
   },
   "file_extension": ".py",
   "mimetype": "text/x-python",
   "name": "python",
   "nbconvert_exporter": "python",
   "pygments_lexer": "ipython3",
   "version": "3.10.9"
  }
 },
 "nbformat": 4,
 "nbformat_minor": 5
}
